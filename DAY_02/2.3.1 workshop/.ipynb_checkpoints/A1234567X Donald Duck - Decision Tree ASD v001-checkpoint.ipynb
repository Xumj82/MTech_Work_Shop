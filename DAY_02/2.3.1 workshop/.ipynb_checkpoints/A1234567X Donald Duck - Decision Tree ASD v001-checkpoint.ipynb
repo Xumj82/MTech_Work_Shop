{
 "cells": [
  {
   "cell_type": "markdown",
   "metadata": {},
   "source": [
    "# 0. Installation (one time job)"
   ]
  },
  {
   "cell_type": "code",
   "execution_count": 1,
   "metadata": {},
   "outputs": [],
   "source": [
    "# !pip install scikit-learn==0.23.1"
   ]
  },
  {
   "cell_type": "code",
   "execution_count": 2,
   "metadata": {},
   "outputs": [],
   "source": [
    "# !pip install pandas"
   ]
  },
  {
   "cell_type": "code",
   "execution_count": 3,
   "metadata": {},
   "outputs": [],
   "source": [
    "# !pip install matplotlib"
   ]
  },
  {
   "cell_type": "markdown",
   "metadata": {},
   "source": [
    "# 1. Import Library"
   ]
  },
  {
   "cell_type": "code",
   "execution_count": 4,
   "metadata": {},
   "outputs": [],
   "source": [
    "import numpy as np\n",
    "import pandas as pd\n",
    "import matplotlib.pyplot as plt\n",
    "from sklearn.model_selection import train_test_split\n",
    "from sklearn.preprocessing import StandardScaler\n",
    "from sklearn.tree import DecisionTreeClassifier\n",
    "from sklearn.tree import DecisionTreeRegressor\n",
    "from sklearn.tree import plot_tree, export_graphviz # Visualize Tree / Rules"
   ]
  },
  {
   "cell_type": "markdown",
   "metadata": {},
   "source": [
    "# 2. Import ASD Data"
   ]
  },
  {
   "cell_type": "code",
   "execution_count": 5,
   "metadata": {},
   "outputs": [
    {
     "name": "stdout",
     "output_type": "stream",
     "text": [
      "   Case_No  A1  A2  A3  A4  A5  A6  A7  A8  A9  A10  Age_Mons  Qchat-10-Score  \\\n",
      "0        1   0   0   0   0   0   0   1   1   0    1        28               3   \n",
      "1        2   1   1   0   0   0   1   1   0   0    0        36               4   \n",
      "2        3   1   0   0   0   0   0   1   1   0    1        36               4   \n",
      "3        4   1   1   1   1   1   1   1   1   1    1        24              10   \n",
      "4        5   1   1   0   1   1   1   1   1   1    1        20               9   \n",
      "\n",
      "  Sex       Ethnicity Jaundice Family_mem_with_ASD Who completed the test  \\\n",
      "0   f  middle eastern      yes                  no          family member   \n",
      "1   m  White European      yes                  no          family member   \n",
      "2   m  middle eastern      yes                  no          family member   \n",
      "3   m        Hispanic       no                  no          family member   \n",
      "4   f  White European       no                 yes          family member   \n",
      "\n",
      "  Class/ASD Traits   \n",
      "0                No  \n",
      "1               Yes  \n",
      "2               Yes  \n",
      "3               Yes  \n",
      "4               Yes  \n"
     ]
    }
   ],
   "source": [
    "# Loading the dataset\n",
    "# ASD_data = pd.read_csv('./data.csv')\n",
    "ASD_data = pd.read_csv('./Toddler Autism dataset.csv')\n",
    "\n",
    "# Print the first 5 rows of the dataframe.\n",
    "print(ASD_data.head())"
   ]
  },
  {
   "cell_type": "code",
   "execution_count": 6,
   "metadata": {},
   "outputs": [
    {
     "name": "stdout",
     "output_type": "stream",
     "text": [
      "   Case_No  A1  A2  A3  A4  A5  A6  A7  A8  A9  A10  Age_Mons  Qchat_10_Score  \\\n",
      "0        1   0   0   0   0   0   0   1   1   0    1        28               3   \n",
      "1        2   1   1   0   0   0   1   1   0   0    0        36               4   \n",
      "2        3   1   0   0   0   0   0   1   1   0    1        36               4   \n",
      "3        4   1   1   1   1   1   1   1   1   1    1        24              10   \n",
      "4        5   1   1   0   1   1   1   1   1   1    1        20               9   \n",
      "\n",
      "  Sex       Ethnicity Jaundice Family_mem_with_ASD Who_completed_the_test  \\\n",
      "0   f  middle eastern      yes                  no          family member   \n",
      "1   m  White European      yes                  no          family member   \n",
      "2   m  middle eastern      yes                  no          family member   \n",
      "3   m        Hispanic       no                  no          family member   \n",
      "4   f  White European       no                 yes          family member   \n",
      "\n",
      "  Class_ASD_Traits_  \n",
      "0                No  \n",
      "1               Yes  \n",
      "2               Yes  \n",
      "3               Yes  \n",
      "4               Yes  \n"
     ]
    }
   ],
   "source": [
    "# Replace special \n",
    "ASD_data.columns=ASD_data.columns.str.replace('-','_')\n",
    "ASD_data.columns=ASD_data.columns.str.replace('/','_')\n",
    "ASD_data.columns=ASD_data.columns.str.replace(' ','_')\n",
    "print(ASD_data.head())"
   ]
  },
  {
   "cell_type": "code",
   "execution_count": 7,
   "metadata": {},
   "outputs": [
    {
     "name": "stdout",
     "output_type": "stream",
     "text": [
      "(1054, 19)\n"
     ]
    }
   ],
   "source": [
    "# observing the shape of the data\n",
    "print(ASD_data.shape)"
   ]
  },
  {
   "cell_type": "markdown",
   "metadata": {},
   "source": [
    "# 3. Data Preprocessing"
   ]
  },
  {
   "cell_type": "markdown",
   "metadata": {},
   "source": [
    "## 3.1. Choose appropriate features "
   ]
  },
  {
   "cell_type": "code",
   "execution_count": 8,
   "metadata": {},
   "outputs": [],
   "source": [
    "Sex = pd.Categorical(ASD_data['Sex']).codes\n",
    "Ethnicity = pd.Categorical(ASD_data['Ethnicity']).codes\n",
    "Jaundice = pd.Categorical(ASD_data['Jaundice']).codes\n",
    "Family_mem_with_ASD = pd.Categorical(ASD_data['Family_mem_with_ASD']).codes\n",
    "Class_ASD_Traits_ = pd.Categorical(ASD_data['Class_ASD_Traits_']).codes\n",
    "\n",
    "ASD_data['Sex'] = Sex\n",
    "ASD_data['Ethnicity'] = Ethnicity\n",
    "ASD_data['Jaundice'] = Jaundice\n",
    "ASD_data['Family_mem_with_ASD'] = Family_mem_with_ASD\n",
    "ASD_data['Class_ASD_Traits_'] = Class_ASD_Traits_\n",
    "\n",
    "# Check the data and think why we drop these variables?\n",
    "# X = ASD_data.drop(['Case_No', 'Who_completed_the_test', 'Score', 'ASD_Traits', 'A1', 'A2', 'A3', 'A4', 'A5', 'A6', 'A7', 'A8', 'A9', 'A10'], axis=1)\n",
    "X = ASD_data.drop(['Case_No', 'Who_completed_the_test', 'Qchat_10_Score', 'Class_ASD_Traits_'], axis=1)\n"
   ]
  },
  {
   "cell_type": "code",
   "execution_count": 9,
   "metadata": {},
   "outputs": [
    {
     "data": {
      "text/plain": [
       "Index(['A1', 'A2', 'A3', 'A4', 'A5', 'A6', 'A7', 'A8', 'A9', 'A10', 'Age_Mons',\n",
       "       'Sex', 'Ethnicity', 'Jaundice', 'Family_mem_with_ASD'],\n",
       "      dtype='object')"
      ]
     },
     "execution_count": 9,
     "metadata": {},
     "output_type": "execute_result"
    }
   ],
   "source": [
    "X.columns"
   ]
  },
  {
   "cell_type": "markdown",
   "metadata": {},
   "source": [
    "## 3.2 Choose target"
   ]
  },
  {
   "cell_type": "code",
   "execution_count": 10,
   "metadata": {},
   "outputs": [],
   "source": [
    "Y_classification = ASD_data.Class_ASD_Traits_\n",
    "Y_regression = ASD_data.Qchat_10_Score"
   ]
  },
  {
   "cell_type": "markdown",
   "metadata": {},
   "source": [
    "# 4. Build Classification Tree"
   ]
  },
  {
   "cell_type": "markdown",
   "metadata": {},
   "source": [
    "## 4.1 Split the dataset into training set and test set"
   ]
  },
  {
   "cell_type": "code",
   "execution_count": 11,
   "metadata": {},
   "outputs": [
    {
     "name": "stdout",
     "output_type": "stream",
     "text": [
      "(702, 15)\n",
      "(352, 15)\n"
     ]
    }
   ],
   "source": [
    "X_train, X_test, y_train, y_test = train_test_split(X, Y_classification, test_size=1 / 3, random_state=1,\n",
    "                                                    stratify=Y_classification)\n",
    "print(X_train.shape)\n",
    "print(X_test.shape)"
   ]
  },
  {
   "cell_type": "code",
   "execution_count": 12,
   "metadata": {},
   "outputs": [
    {
     "data": {
      "text/html": [
       "<div>\n",
       "<style scoped>\n",
       "    .dataframe tbody tr th:only-of-type {\n",
       "        vertical-align: middle;\n",
       "    }\n",
       "\n",
       "    .dataframe tbody tr th {\n",
       "        vertical-align: top;\n",
       "    }\n",
       "\n",
       "    .dataframe thead th {\n",
       "        text-align: right;\n",
       "    }\n",
       "</style>\n",
       "<table border=\"1\" class=\"dataframe\">\n",
       "  <thead>\n",
       "    <tr style=\"text-align: right;\">\n",
       "      <th></th>\n",
       "      <th>A1</th>\n",
       "      <th>A2</th>\n",
       "      <th>A3</th>\n",
       "      <th>A4</th>\n",
       "      <th>A5</th>\n",
       "      <th>A6</th>\n",
       "      <th>A7</th>\n",
       "      <th>A8</th>\n",
       "      <th>A9</th>\n",
       "      <th>A10</th>\n",
       "      <th>Age_Mons</th>\n",
       "      <th>Sex</th>\n",
       "      <th>Ethnicity</th>\n",
       "      <th>Jaundice</th>\n",
       "      <th>Family_mem_with_ASD</th>\n",
       "    </tr>\n",
       "  </thead>\n",
       "  <tbody>\n",
       "    <tr>\n",
       "      <th>723</th>\n",
       "      <td>1</td>\n",
       "      <td>1</td>\n",
       "      <td>0</td>\n",
       "      <td>0</td>\n",
       "      <td>0</td>\n",
       "      <td>1</td>\n",
       "      <td>1</td>\n",
       "      <td>1</td>\n",
       "      <td>0</td>\n",
       "      <td>1</td>\n",
       "      <td>23</td>\n",
       "      <td>1</td>\n",
       "      <td>5</td>\n",
       "      <td>1</td>\n",
       "      <td>1</td>\n",
       "    </tr>\n",
       "    <tr>\n",
       "      <th>492</th>\n",
       "      <td>1</td>\n",
       "      <td>0</td>\n",
       "      <td>0</td>\n",
       "      <td>1</td>\n",
       "      <td>1</td>\n",
       "      <td>0</td>\n",
       "      <td>1</td>\n",
       "      <td>0</td>\n",
       "      <td>1</td>\n",
       "      <td>1</td>\n",
       "      <td>28</td>\n",
       "      <td>1</td>\n",
       "      <td>5</td>\n",
       "      <td>1</td>\n",
       "      <td>0</td>\n",
       "    </tr>\n",
       "    <tr>\n",
       "      <th>990</th>\n",
       "      <td>1</td>\n",
       "      <td>0</td>\n",
       "      <td>1</td>\n",
       "      <td>1</td>\n",
       "      <td>1</td>\n",
       "      <td>1</td>\n",
       "      <td>1</td>\n",
       "      <td>0</td>\n",
       "      <td>1</td>\n",
       "      <td>1</td>\n",
       "      <td>35</td>\n",
       "      <td>0</td>\n",
       "      <td>8</td>\n",
       "      <td>0</td>\n",
       "      <td>0</td>\n",
       "    </tr>\n",
       "    <tr>\n",
       "      <th>836</th>\n",
       "      <td>1</td>\n",
       "      <td>1</td>\n",
       "      <td>1</td>\n",
       "      <td>1</td>\n",
       "      <td>1</td>\n",
       "      <td>1</td>\n",
       "      <td>1</td>\n",
       "      <td>1</td>\n",
       "      <td>1</td>\n",
       "      <td>1</td>\n",
       "      <td>29</td>\n",
       "      <td>1</td>\n",
       "      <td>5</td>\n",
       "      <td>0</td>\n",
       "      <td>0</td>\n",
       "    </tr>\n",
       "    <tr>\n",
       "      <th>317</th>\n",
       "      <td>0</td>\n",
       "      <td>1</td>\n",
       "      <td>0</td>\n",
       "      <td>1</td>\n",
       "      <td>0</td>\n",
       "      <td>1</td>\n",
       "      <td>1</td>\n",
       "      <td>1</td>\n",
       "      <td>1</td>\n",
       "      <td>1</td>\n",
       "      <td>16</td>\n",
       "      <td>1</td>\n",
       "      <td>8</td>\n",
       "      <td>1</td>\n",
       "      <td>1</td>\n",
       "    </tr>\n",
       "  </tbody>\n",
       "</table>\n",
       "</div>"
      ],
      "text/plain": [
       "     A1  A2  A3  A4  A5  A6  A7  A8  A9  A10  Age_Mons  Sex  Ethnicity  \\\n",
       "723   1   1   0   0   0   1   1   1   0    1        23    1          5   \n",
       "492   1   0   0   1   1   0   1   0   1    1        28    1          5   \n",
       "990   1   0   1   1   1   1   1   0   1    1        35    0          8   \n",
       "836   1   1   1   1   1   1   1   1   1    1        29    1          5   \n",
       "317   0   1   0   1   0   1   1   1   1    1        16    1          8   \n",
       "\n",
       "     Jaundice  Family_mem_with_ASD  \n",
       "723         1                    1  \n",
       "492         1                    0  \n",
       "990         0                    0  \n",
       "836         0                    0  \n",
       "317         1                    1  "
      ]
     },
     "execution_count": 12,
     "metadata": {},
     "output_type": "execute_result"
    }
   ],
   "source": [
    "X_train.head()"
   ]
  },
  {
   "cell_type": "code",
   "execution_count": 13,
   "metadata": {},
   "outputs": [
    {
     "data": {
      "text/plain": [
       "723    1\n",
       "492    1\n",
       "990    1\n",
       "836    1\n",
       "317    1\n",
       "Name: Class_ASD_Traits_, dtype: int8"
      ]
     },
     "execution_count": 13,
     "metadata": {},
     "output_type": "execute_result"
    }
   ],
   "source": [
    "y_train.head()"
   ]
  },
  {
   "cell_type": "markdown",
   "metadata": {},
   "source": [
    "## 4.2 Build classification tree"
   ]
  },
  {
   "cell_type": "code",
   "execution_count": 14,
   "metadata": {},
   "outputs": [
    {
     "name": "stdout",
     "output_type": "stream",
     "text": [
      "Accuracy on training set: 1.000\n",
      "Accuracy on test set: 0.923\n"
     ]
    },
    {
     "data": {
      "text/plain": [
       "DecisionTreeClassifier(random_state=0)"
      ]
     },
     "execution_count": 14,
     "metadata": {},
     "output_type": "execute_result"
    }
   ],
   "source": [
    "dt = DecisionTreeClassifier(criterion='gini',random_state=0)\n",
    "dt.fit(X_train, y_train)\n",
    "\n",
    "print(\"Accuracy on training set: {:.3f}\".format(dt.score(X_train, y_train)))\n",
    "print(\"Accuracy on test set: {:.3f}\".format(dt.score(X_test, y_test)))\n",
    "dt"
   ]
  },
  {
   "cell_type": "markdown",
   "metadata": {},
   "source": [
    "## 4.3. Use grid search to optimize the parameters"
   ]
  },
  {
   "cell_type": "code",
   "execution_count": 15,
   "metadata": {},
   "outputs": [
    {
     "name": "stdout",
     "output_type": "stream",
     "text": [
      "Best accuracy on training set: 0.990\n",
      "Best accuracy on test set: 0.923\n",
      "Best decision tree with parameter max_depth of 8 and min_samples_split of 2\n"
     ]
    }
   ],
   "source": [
    "\n",
    "best_para = {'max_depth':0, 'min_samples':0}\n",
    "best_test_acc = 0\n",
    "\n",
    "# grid serach\n",
    "for max_depth in range(1, 10):\n",
    "    for min_samples in range(2,100):\n",
    "        dt = DecisionTreeClassifier(criterion='gini',max_depth=max_depth, min_samples_split = min_samples, random_state=0)\n",
    "        dt.fit(X_train, y_train)\n",
    "        if dt.score(X_test, y_test) > best_test_acc:\n",
    "            best_test_acc = dt.score(X_test, y_test)\n",
    "            best_para['max_depth'] = max_depth\n",
    "            best_para['min_samples'] = min_samples\n",
    "\n",
    "dt = DecisionTreeClassifier(criterion='gini',max_depth=best_para['max_depth'], min_samples_split = best_para['min_samples'], random_state=0)\n",
    "dt.fit(X_train, y_train)\n",
    "print(\"Best accuracy on training set: {:.3f}\".format(dt.score(X_train, y_train)))\n",
    "print(\"Best accuracy on test set: {:.3f}\".format(dt.score(X_test, y_test)))\n",
    "print(\"Best decision tree with parameter max_depth of {0} and min_samples_split of {1}\".format(best_para['max_depth'], best_para['min_samples']))"
   ]
  },
  {
   "cell_type": "markdown",
   "metadata": {},
   "source": [
    "# 5. Build Regression Tree"
   ]
  },
  {
   "cell_type": "markdown",
   "metadata": {},
   "source": [
    "## 5.1 Split the dataset into training set and test set"
   ]
  },
  {
   "cell_type": "code",
   "execution_count": 16,
   "metadata": {},
   "outputs": [
    {
     "name": "stdout",
     "output_type": "stream",
     "text": [
      "(702, 15)\n",
      "(352, 15)\n"
     ]
    }
   ],
   "source": [
    "X_train, X_test, y_train, y_test = train_test_split(X, Y_regression, test_size=1 / 3, random_state=42)\n",
    "print(X_train.shape)\n",
    "print(X_test.shape)"
   ]
  },
  {
   "cell_type": "markdown",
   "metadata": {},
   "source": [
    "## 5.2 Build regreesion tree"
   ]
  },
  {
   "cell_type": "code",
   "execution_count": 17,
   "metadata": {},
   "outputs": [
    {
     "name": "stdout",
     "output_type": "stream",
     "text": [
      "Score on training set: 1.000\n",
      "Score on test set: 0.924\n"
     ]
    }
   ],
   "source": [
    "dt = DecisionTreeRegressor(criterion='mse',random_state=0)\n",
    "dt.fit(X_train, y_train)\n",
    "\n",
    "\n",
    "print(\"Score on training set: {:.3f}\".format(dt.score(X_train, y_train)))\n",
    "print(\"Score on test set: {:.3f}\".format(dt.score(X_test, y_test)))"
   ]
  },
  {
   "cell_type": "markdown",
   "metadata": {},
   "source": [
    "## 5.3. Use grid search to optimize the parameters"
   ]
  },
  {
   "cell_type": "code",
   "execution_count": 18,
   "metadata": {},
   "outputs": [
    {
     "name": "stdout",
     "output_type": "stream",
     "text": [
      "Best score on training set: 0.985\n",
      "Best score on test set: 0.932\n",
      "Best regression tree with parameter max_depth of 9 and min_samples_split of 6\n"
     ]
    }
   ],
   "source": [
    "best_para = {'max_depth':0, 'min_samples':0}\n",
    "best_test_acc = 0\n",
    "# grid serach\n",
    "for max_depth in range(1, 20):\n",
    "    for min_samples in range(2,50):\n",
    "        dt = DecisionTreeRegressor(criterion='mse',max_depth=max_depth, min_samples_split = min_samples, random_state=0)\n",
    "        dt.fit(X_train, y_train)\n",
    "        if dt.score(X_test, y_test) > best_test_acc:\n",
    "            best_test_acc = dt.score(X_test, y_test)\n",
    "            best_para['max_depth'] = max_depth\n",
    "            best_para['min_samples'] = min_samples\n",
    "\n",
    "dt = DecisionTreeRegressor(criterion='mse',max_depth=best_para['max_depth'], min_samples_split = best_para['min_samples'], random_state=0)\n",
    "dt.fit(X_train, y_train)\n",
    "print(\"Best score on training set: {:.3f}\".format(dt.score(X_train, y_train)))\n",
    "print(\"Best score on test set: {:.3f}\".format(dt.score(X_test, y_test)))\n",
    "print(\"Best regression tree with parameter max_depth of {0} and min_samples_split of {1}\".format(best_para['max_depth'], best_para['min_samples']))\n"
   ]
  },
  {
   "cell_type": "markdown",
   "metadata": {},
   "source": [
    "# 6. Extract all the rules (Decsion Tree's level = 8) from the classification tree"
   ]
  },
  {
   "cell_type": "markdown",
   "metadata": {},
   "source": [
    "Reference: https://scikit-learn.org/stable/modules/generated/sklearn.tree.plot_tree.html"
   ]
  },
  {
   "cell_type": "code",
   "execution_count": 19,
   "metadata": {},
   "outputs": [],
   "source": [
    "###################################################################\n",
    "# Extract all the rules from the classification tree\n",
    "###################################################################\n",
    "#\n",
    "#\n",
    "#\n",
    "#\n",
    "#\n",
    "#\n",
    "#\n",
    "#\n",
    "#"
   ]
  },
  {
   "cell_type": "markdown",
   "metadata": {},
   "source": [
    "### Useful Tips:"
   ]
  },
  {
   "cell_type": "code",
   "execution_count": 20,
   "metadata": {},
   "outputs": [
    {
     "name": "stdout",
     "output_type": "stream",
     "text": [
      "(702, 15)\n",
      "(352, 15)\n",
      "Accuracy on training set: 0.879\n",
      "Accuracy on test set: 0.838\n"
     ]
    },
    {
     "data": {
      "text/plain": [
       "DecisionTreeClassifier(max_depth=3, random_state=0)"
      ]
     },
     "execution_count": 20,
     "metadata": {},
     "output_type": "execute_result"
    }
   ],
   "source": [
    "X_train, X_test, y_train, y_test = train_test_split(X, Y_classification, test_size=1 / 3, random_state=1,\n",
    "                                                    stratify=Y_classification)\n",
    "print(X_train.shape)\n",
    "print(X_test.shape)\n",
    "\n",
    "dt = DecisionTreeClassifier(criterion='gini',random_state=0, max_depth=3)\n",
    "dt.fit(X_train, y_train)\n",
    "\n",
    "print(\"Accuracy on training set: {:.3f}\".format(dt.score(X_train, y_train)))\n",
    "print(\"Accuracy on test set: {:.3f}\".format(dt.score(X_test, y_test)))\n",
    "dt"
   ]
  },
  {
   "cell_type": "code",
   "execution_count": 21,
   "metadata": {
    "scrolled": false
   },
   "outputs": [],
   "source": [
    "# plt.rcParams['figure.figsize'] = [24, 12] # Optionally adjust inline graph size"
   ]
  },
  {
   "cell_type": "markdown",
   "metadata": {},
   "source": [
    "### install graphviz"
   ]
  },
  {
   "cell_type": "code",
   "execution_count": 22,
   "metadata": {},
   "outputs": [],
   "source": [
    "# !pip install graphviz"
   ]
  },
  {
   "cell_type": "markdown",
   "metadata": {},
   "source": [
    "Also in Linux terminal: sudo apt install graphviz"
   ]
  },
  {
   "cell_type": "code",
   "execution_count": 23,
   "metadata": {},
   "outputs": [],
   "source": [
    "import graphviz \n",
    "dot_data = export_graphviz(dt, out_file=None, \n",
    "                      feature_names=X.columns,  \n",
    "                      class_names=['Not ASD', 'ASD'], # \"0\": Not ASD ; \"1\": ASD\n",
    "                      filled=True, rounded=True,  \n",
    "                      special_characters=True)  \n",
    "graph = graphviz.Source(dot_data)  \n",
    "# graph\n",
    "graph.render(\"tree_rules_image\", view=True)\n",
    "f = open(\"tree_rules.txt\",\"w+\")\n",
    "f.write(dot_data)\n",
    "f.close()\n"
   ]
  },
  {
   "cell_type": "markdown",
   "metadata": {},
   "source": [
    "---\n",
    "`The end is called new start.` --- ISS **I** **S**(elf) **S**(tudy)"
   ]
  }
 ],
 "metadata": {
  "kernelspec": {
   "display_name": "Python 3",
   "language": "python",
   "name": "python3"
  },
  "language_info": {
   "codemirror_mode": {
    "name": "ipython",
    "version": 3
   },
   "file_extension": ".py",
   "mimetype": "text/x-python",
   "name": "python",
   "nbconvert_exporter": "python",
   "pygments_lexer": "ipython3",
   "version": "3.6.12"
  }
 },
 "nbformat": 4,
 "nbformat_minor": 4
}
