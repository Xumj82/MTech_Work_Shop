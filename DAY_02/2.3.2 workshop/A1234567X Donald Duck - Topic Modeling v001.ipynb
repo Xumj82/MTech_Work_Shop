{
 "cells": [
  {
   "cell_type": "markdown",
   "metadata": {},
   "source": [
    "# 0. Installation (one time job)"
   ]
  },
  {
   "cell_type": "code",
   "execution_count": 4,
   "metadata": {},
   "outputs": [],
   "source": [
    "#!pip install scikit-learn==0.23.1"
   ]
  },
  {
   "cell_type": "code",
   "execution_count": 5,
   "metadata": {
    "scrolled": false
   },
   "outputs": [],
   "source": [
    " #xlrd no longer support xlsx - https://stackoverflow.com/questions/65254535/xlrd-biffh-xlrderror-excel-xlsx-file-not-supported\n",
    "#!pip install openpyxl"
   ]
  },
  {
   "cell_type": "markdown",
   "metadata": {},
   "source": [
    "# 1. Import Library"
   ]
  },
  {
   "cell_type": "code",
   "execution_count": 6,
   "metadata": {},
   "outputs": [],
   "source": [
    "import pandas as pd\n",
    "from sklearn.feature_extraction.text import TfidfVectorizer, CountVectorizer\n",
    "from sklearn.decomposition import LatentDirichletAllocation\n",
    "from TextPreprocessing import text_preprocessing"
   ]
  },
  {
   "cell_type": "markdown",
   "metadata": {},
   "source": [
    "# 2. Check Data"
   ]
  },
  {
   "cell_type": "code",
   "execution_count": 7,
   "metadata": {
    "scrolled": true
   },
   "outputs": [
    {
     "output_type": "execute_result",
     "data": {
      "text/plain": [
       "   sn                                           Question  \\\n",
       "0   1          What are Autism Spectrum Disorders (ASD)?   \n",
       "1   2                              How common is autism?   \n",
       "2   3               What causes autism? Can it be cured?   \n",
       "3   4  Why doesn’t intervention center refer to its s...   \n",
       "4   5   What are the types of Autism Spectrum Disorders?   \n",
       "\n",
       "                                         Long_Answer  Short_Answer  \\\n",
       "0  ASD refers to a wide spectrum of neurodevelopm...           NaN   \n",
       "1  According to a 2020 report commissioned by the...           NaN   \n",
       "2  The causes of this complex disorder remain unc...           NaN   \n",
       "3  Our students are children or youth who are cha...           NaN   \n",
       "4  Autistic Disorder; Asperger Syndrome; Pervasiv...           NaN   \n",
       "\n",
       "                                              Source  Remarks  \n",
       "0            http://birchtreecenter.org/learn/autism      NaN  \n",
       "1            http://birchtreecenter.org/learn/autism      NaN  \n",
       "2            http://birchtreecenter.org/learn/autism      NaN  \n",
       "3            http://birchtreecenter.org/learn/autism      NaN  \n",
       "4  http://dhss.alaska.gov/dph/wcfh/Pages/autism/s...      NaN  "
      ],
      "text/html": "<div>\n<style scoped>\n    .dataframe tbody tr th:only-of-type {\n        vertical-align: middle;\n    }\n\n    .dataframe tbody tr th {\n        vertical-align: top;\n    }\n\n    .dataframe thead th {\n        text-align: right;\n    }\n</style>\n<table border=\"1\" class=\"dataframe\">\n  <thead>\n    <tr style=\"text-align: right;\">\n      <th></th>\n      <th>sn</th>\n      <th>Question</th>\n      <th>Long_Answer</th>\n      <th>Short_Answer</th>\n      <th>Source</th>\n      <th>Remarks</th>\n    </tr>\n  </thead>\n  <tbody>\n    <tr>\n      <th>0</th>\n      <td>1</td>\n      <td>What are Autism Spectrum Disorders (ASD)?</td>\n      <td>ASD refers to a wide spectrum of neurodevelopm...</td>\n      <td>NaN</td>\n      <td>http://birchtreecenter.org/learn/autism</td>\n      <td>NaN</td>\n    </tr>\n    <tr>\n      <th>1</th>\n      <td>2</td>\n      <td>How common is autism?</td>\n      <td>According to a 2020 report commissioned by the...</td>\n      <td>NaN</td>\n      <td>http://birchtreecenter.org/learn/autism</td>\n      <td>NaN</td>\n    </tr>\n    <tr>\n      <th>2</th>\n      <td>3</td>\n      <td>What causes autism? Can it be cured?</td>\n      <td>The causes of this complex disorder remain unc...</td>\n      <td>NaN</td>\n      <td>http://birchtreecenter.org/learn/autism</td>\n      <td>NaN</td>\n    </tr>\n    <tr>\n      <th>3</th>\n      <td>4</td>\n      <td>Why doesn’t intervention center refer to its s...</td>\n      <td>Our students are children or youth who are cha...</td>\n      <td>NaN</td>\n      <td>http://birchtreecenter.org/learn/autism</td>\n      <td>NaN</td>\n    </tr>\n    <tr>\n      <th>4</th>\n      <td>5</td>\n      <td>What are the types of Autism Spectrum Disorders?</td>\n      <td>Autistic Disorder; Asperger Syndrome; Pervasiv...</td>\n      <td>NaN</td>\n      <td>http://dhss.alaska.gov/dph/wcfh/Pages/autism/s...</td>\n      <td>NaN</td>\n    </tr>\n  </tbody>\n</table>\n</div>"
     },
     "metadata": {},
     "execution_count": 7
    }
   ],
   "source": [
    "# Read data\n",
    "pd.set_option('display.max_columns', None)\n",
    "\n",
    "# data = pd.read_excel('./ASD FAQ KB v001.xlsx', sheet_name='FAQ')\n",
    "data = pd.read_excel('./ASD FAQ KB v001.xlsx', sheet_name='FAQ', engine='openpyxl')\n",
    "\n",
    "data.head()"
   ]
  },
  {
   "cell_type": "code",
   "execution_count": 8,
   "metadata": {},
   "outputs": [
    {
     "output_type": "stream",
     "name": "stdout",
     "text": [
      "(226, 6)\n"
     ]
    }
   ],
   "source": [
    "print(data.shape)"
   ]
  },
  {
   "cell_type": "markdown",
   "metadata": {},
   "source": [
    "# 3. Data Preprocessing"
   ]
  },
  {
   "cell_type": "code",
   "execution_count": 9,
   "metadata": {},
   "outputs": [
    {
     "output_type": "stream",
     "name": "stdout",
     "text": [
      "(226, 2753)\n"
     ]
    }
   ],
   "source": [
    "# Select long_answer from the data\n",
    "long_answer = data.get('Long_Answer')\n",
    "\n",
    "# Preprocess the long_answer\n",
    "long_answer = long_answer.map(lambda x: ' '.join(text_preprocessing(x)))\n",
    "\n",
    "# Vectorize the answers (one-hot)\n",
    "sparse_vectorizer = CountVectorizer(strip_accents = 'unicode')\n",
    "sparse_vectors = sparse_vectorizer.fit_transform(long_answer)\n",
    "\n",
    "# (226, 2753)\n",
    "print(sparse_vectors.shape)"
   ]
  },
  {
   "cell_type": "markdown",
   "metadata": {},
   "source": [
    "# 4. Build Topic Model using LDA"
   ]
  },
  {
   "cell_type": "code",
   "execution_count": 11,
   "metadata": {},
   "outputs": [
    {
     "output_type": "execute_result",
     "data": {
      "text/plain": [
       "LatentDirichletAllocation(learning_method='online', max_iter=1000,\n",
       "                          n_components=4, random_state=0)"
      ]
     },
     "metadata": {},
     "execution_count": 11
    }
   ],
   "source": [
    "# Your super power to define number of topics\n",
    "n_topics = 4\n",
    "\n",
    "# Run LDA to generate topics/clusters\n",
    "lda = LatentDirichletAllocation(n_components=n_topics, max_iter=1000,\n",
    "                                learning_method='online',\n",
    "                                random_state=0)\n",
    "\n",
    "lda.fit(sparse_vectors)"
   ]
  },
  {
   "cell_type": "markdown",
   "metadata": {},
   "source": [
    "# 5. Display the resulting topics/clusters of ASD FAQ's Long_Answer field"
   ]
  },
  {
   "cell_type": "code",
   "execution_count": 13,
   "metadata": {},
   "outputs": [],
   "source": [
    "# Print the top-n key words\n",
    "def print_top_words(model, feature_names, n_top_words):\n",
    "    for topic_idx, topic in enumerate(model.components_):\n",
    "        print(\"Topic #%d:\" % topic_idx)\n",
    "        print(\" \".join([feature_names[i] for i in topic.argsort()[:-n_top_words - 1:-1]]))\n",
    "    print()"
   ]
  },
  {
   "cell_type": "code",
   "execution_count": 14,
   "metadata": {},
   "outputs": [
    {
     "output_type": "stream",
     "name": "stdout",
     "text": [
      "Topic 1\nautism disorder asd child may spectrum people behavior social cause\n\nTopic 2\nchild autism may treatment intervention diagnosis early help parent therapy\n\nTopic 3\ninstitute national autism tel information health disorder fax behavior md\n\nTopic 4\nability assessment behaviour concern specific characteristic academic ot memory diet\n\n"
     ]
    }
   ],
   "source": [
    "# Show the first n_top_words key words\n",
    "n_top_words = 10\n",
    "feature_names = sparse_vectorizer.get_feature_names()\n",
    "\n",
    "for i, topic in enumerate(lda.components_):\n",
    "    print('Topic {num}'.format(num=i+1))\n",
    "    print(\" \".join([feature_names[i] for i in topic.argsort()[:-n_top_words - 1:-1]]))\n",
    "    print()"
   ]
  },
  {
   "cell_type": "code",
   "execution_count": 14,
   "metadata": {},
   "outputs": [
    {
     "output_type": "stream",
     "name": "stdout",
     "text": [
      "1st document(long FAQ answer) belongs to Topic 1\n"
     ]
    }
   ],
   "source": [
    "print(\"1st document(long FAQ answer) belongs to Topic\",lda.transform(sparse_vectors[0]).argmax()+1)"
   ]
  },
  {
   "cell_type": "code",
   "execution_count": 16,
   "metadata": {
    "scrolled": true
   },
   "outputs": [
    {
     "output_type": "stream",
     "name": "stdout",
     "text": [
      "Document (long FAQ answer) 81 belongs to Topic 2\nDocument (long FAQ answer) 82 belongs to Topic 2\nDocument (long FAQ answer) 83 belongs to Topic 2\nDocument (long FAQ answer) 84 belongs to Topic 1\nDocument (long FAQ answer) 85 belongs to Topic 1\nDocument (long FAQ answer) 86 belongs to Topic 1\nDocument (long FAQ answer) 87 belongs to Topic 1\nDocument (long FAQ answer) 88 belongs to Topic 1\nDocument (long FAQ answer) 89 belongs to Topic 1\nDocument (long FAQ answer) 90 belongs to Topic 1\nDocument (long FAQ answer) 91 belongs to Topic 1\nDocument (long FAQ answer) 92 belongs to Topic 1\nDocument (long FAQ answer) 93 belongs to Topic 1\nDocument (long FAQ answer) 94 belongs to Topic 1\nDocument (long FAQ answer) 95 belongs to Topic 1\nDocument (long FAQ answer) 96 belongs to Topic 1\nDocument (long FAQ answer) 97 belongs to Topic 1\nDocument (long FAQ answer) 98 belongs to Topic 2\nDocument (long FAQ answer) 99 belongs to Topic 1\nDocument (long FAQ answer) 100 belongs to Topic 1\n"
     ]
    }
   ],
   "source": [
    "# Display topics of first 20 long FAQ answers:\n",
    "for i in range(80, 100):\n",
    "    print(\"Document (long FAQ answer)\", i+1, \"belongs to Topic\", lda.transform(sparse_vectors[i]).argmax()+1)"
   ]
  },
  {
   "cell_type": "markdown",
   "metadata": {},
   "source": [
    "# 6. Interpret the identified topics (using top 10 words)"
   ]
  },
  {
   "cell_type": "markdown",
   "metadata": {},
   "source": [
    "### Topic 1 is about: \n",
    "Defination of ASD\n",
    "\n",
    "### Topic 2 is about: \n",
    "Treatment of ASD\n",
    "\n",
    "### Topic 3 is about: \n",
    "Institutes/Research of ASD research\n",
    "\n",
    "### Topic 4 is about: \n",
    "Aassessment/Symptom of ASD\n"
   ]
  },
  {
   "cell_type": "markdown",
   "metadata": {},
   "source": [
    "# 7. Food for thought: What about the clusters/topics of \"Questons\"?"
   ]
  },
  {
   "cell_type": "code",
   "execution_count": 16,
   "metadata": {},
   "outputs": [
    {
     "output_type": "stream",
     "name": "stdout",
     "text": [
      "Topic 1\nvaccine autism thimerosal evidence link concern mmr methylmercury research study\n\nTopic 2\nchild may autism behavior asd social treatment symptom parent skill\n\nTopic 3\nautism disorder asd genetic cause brain research child disease study\n\nTopic 4\ndisorder autism child spectrum asd diagnosis social asperger syndrome developmental\n\n"
     ]
    }
   ],
   "source": [
    "# Read data\n",
    "pd.set_option('display.max_columns', None)\n",
    "\n",
    "# data = pd.read_excel('./ASD FAQ KB v001.xlsx', sheet_name='FAQ')\n",
    "data = pd.read_excel('./ASD FAQ KB v001.xlsx', sheet_name='FAQ', engine='openpyxl')\n",
    "\n",
    "# Select long_answer from the data\n",
    "question = data.get('Question')\n",
    "\n",
    "# Preprocess the long_answer\n",
    "question = long_answer.map(lambda x: ' '.join(text_preprocessing(x)))\n",
    "\n",
    "# Vectorize the answers (one-hot)\n",
    "sparse_vectorizer = CountVectorizer(strip_accents = 'unicode')\n",
    "sparse_vectors = sparse_vectorizer.fit_transform(question)\n",
    "\n",
    "# Your super power to define number of topics\n",
    "n_topics = 6\n",
    "\n",
    "# Run LDA to generate topics/clusters\n",
    "lda = LatentDirichletAllocation(n_components=n_topics, max_iter=1000,\n",
    "                                learning_method='online',\n",
    "                                random_state=0)\n",
    "\n",
    "lda.fit(sparse_vectors)\n",
    "\n",
    "n_top_words = 10\n",
    "feature_names = sparse_vectorizer.get_feature_names()\n",
    "\n",
    "for i, topic in enumerate(lda.components_):\n",
    "    print('Topic {num}'.format(num=i+1))\n",
    "    print(\" \".join([feature_names[i] for i in topic.argsort()[:-n_top_words - 1:-1]]))\n",
    "    print()"
   ]
  },
  {
   "cell_type": "markdown",
   "metadata": {},
   "source": [
    "---\n",
    "`The end is called the new start.` --- ISS : **I** **S**(elf) **S**(tudy)"
   ]
  }
 ],
 "metadata": {
  "kernelspec": {
   "display_name": "Python 3",
   "language": "python",
   "name": "python3"
  },
  "language_info": {
   "codemirror_mode": {
    "name": "ipython",
    "version": 3
   },
   "file_extension": ".py",
   "mimetype": "text/x-python",
   "name": "python",
   "nbconvert_exporter": "python",
   "pygments_lexer": "ipython3",
   "version": "3.8.5-final"
  }
 },
 "nbformat": 4,
 "nbformat_minor": 4
}